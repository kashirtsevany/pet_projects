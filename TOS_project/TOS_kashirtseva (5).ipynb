{
 "cells": [
  {
   "cell_type": "markdown",
   "id": "927eab61-5265-4b44-8a78-3fcecc04813a",
   "metadata": {},
   "source": [
    "**Аналитическая записка по проекту \"ТОС\"**\n",
    "\n",
    "_____\n",
    "**Цель исследования.**\n",
    "    Провести обработку, исследование и визуализацию характеристик ТОСов Белгородского района, а так же их председателей и активности.\n",
    "   \n",
    "_____\n",
    "**Задачи исследования.**\n",
    "\n",
    "Создать дашборд с основной информацией о состоянии ТОСов, их председателях и участия в различных конкурсах.\n",
    "Проверить гипотезу что активность тоса зависит от размера поселения и возраста председателя.\n",
    "_____\n",
    "**Исходные данные.**\n",
    "    \n",
    "Путь к файлу: https://disk.yandex.ru/i/WnRPrFRe4305XQ\n",
    "  \n",
    " \n",
    "***Часть 1. Обработка и загрузка данных:***\n",
    "* [1. Загрузка данных ](#1-bullet)\n",
    "\n",
    "\n",
    "***Часть 2. Исследовательский анализ данных:***\n",
    "* [1. Расчет ключевых показателей метрик.](#2-bullet)\n",
    "* [2. Гистограммы распределения метрик.](#3-bullet)\n",
    "* [3. Корреляционнный анализ метрик.](#4-bullet)\n",
    "\n",
    "***Часть 3. Проверка гипотез:***\n",
    "* [1. Гипотеза различия размера поселения для активных и неактивных ТОС.](#5-bullet)\n",
    "* [2. Гипотеза различия возраста председателя между активными и неактивными ТОС.](#6-bullet)\n",
    "\n",
    "***[Выводы.](#7-bullet)***\n",
    "\n",
    "***[Дашбоард.](#8-bullet)***"
   ]
  },
  {
   "cell_type": "code",
   "execution_count": 1,
   "id": "ebfce8fa-42e4-4cd8-a84d-0768869e2ee5",
   "metadata": {},
   "outputs": [],
   "source": [
    "import pandas as pd\n",
    "import seaborn as sns\n",
    "import matplotlib.pyplot as plt\n",
    "import numpy as np\n",
    "import scipy.stats as st\n",
    "from statistics import variance \n",
    "import math as mth\n"
   ]
  },
  {
   "cell_type": "markdown",
   "id": "5b5cbf41-144f-4f65-9016-18dffea14635",
   "metadata": {},
   "source": [
    "#### Часть 1. Обработка и загрузка данных"
   ]
  },
  {
   "cell_type": "markdown",
   "id": "2baab0dd-1c5b-48bf-aed7-f2f800d909e7",
   "metadata": {},
   "source": [
    "** Предобработка данных **\n",
    "\n",
    "Предобработку данных осуществила непосредственно в ексель\n",
    "* Проверила дубли и пустые значения - они отсутствуют\n",
    "* Проверила форматы столбцов и привела их в соответствие - даты в формат дат, убрала лишние пробелы\n",
    "* В столбце с суммой финансирования по конкурсам убрала рубли и лишние пробелы и посчитала общую сумму финансирования ко конкурсу\n",
    "* Добавила два столбца – возраст председателя ТОС(на момент выбора ) и стаж работы председателем (=(ГОД(ТДАТА())-ГОД(K199)), =(ГОД(K199)-ГОД(O199)))\n",
    "* Исправила аномальные данные – возраст председателя стр 143\n",
    "* Добавила столбцы с балами активности ( Активные ТОС +1 балл, за каждый конкурс +1 балл, за наличие соцсети +1 балл). Получился индикатор активности в баллах от 0 до 5. Далее буду считать 0-1 это неактивные ТОС, при 2 и более это активные ТОС.\n",
    "* Далее создала доп лист для проверки гипотез (для упрощения работы с данными)\n",
    "  \n",
    "    'id' - № пп,\n",
    "  'location' - поселение, \n",
    "  'population'- население, \n",
    "  'community'- населенный пункт , \n",
    "  'name' – название ТОС, \n",
    "    'residents' – количество жителей, зарегистрированных на территорииТОС, \n",
    "    'members' – количество членов ТОС, \n",
    "    'active_members' – количество активных членов ТОС, \n",
    "    'gender' – пол председателя ТОС, \n",
    "    'experience' – стаж председателя ТОС, \n",
    "    'type_work' – тип занятости председателя, \n",
    "    'age' – возраст председателя, \n",
    "    'active' – активный или неактивный ТОС,  \n",
    "    'type_activity' – направление деятельности тоса, \n",
    "    'indicator' – индикатор активности"
   ]
  },
  {
   "cell_type": "markdown",
   "id": "b77a1dbc-400b-40cb-a597-f0ef4ca6031c",
   "metadata": {},
   "source": [
    "<a id = '1-bullet'></a>\n",
    "##### Загрузка данных."
   ]
  },
  {
   "cell_type": "code",
   "execution_count": 2,
   "id": "f38c94e6-f748-41db-aad5-95e8d90dd5d5",
   "metadata": {},
   "outputs": [],
   "source": [
    "#нужно указать путь к файлу\n",
    "file_name = 'C:/Users/Natalia/Desktop/Белгородский район ТЗ Яндекс Мастерская_Каширцева.xlsx'"
   ]
  },
  {
   "cell_type": "code",
   "execution_count": 3,
   "id": "e1f440e6-4d65-4480-a6ec-e9d7b6ae2a4e",
   "metadata": {},
   "outputs": [
    {
     "name": "stdout",
     "output_type": "stream",
     "text": [
      "<class 'pandas.core.frame.DataFrame'>\n",
      "RangeIndex: 199 entries, 0 to 198\n",
      "Data columns (total 15 columns):\n",
      " #   Column          Non-Null Count  Dtype \n",
      "---  ------          --------------  ----- \n",
      " 0   id              199 non-null    int64 \n",
      " 1   location        199 non-null    object\n",
      " 2   population      199 non-null    int64 \n",
      " 3   community       199 non-null    object\n",
      " 4   name            199 non-null    object\n",
      " 5   residents       199 non-null    int64 \n",
      " 6   members         199 non-null    int64 \n",
      " 7   active_members  199 non-null    int64 \n",
      " 8   gender          199 non-null    object\n",
      " 9   experience      199 non-null    int64 \n",
      " 10  type_work       199 non-null    object\n",
      " 11  age             199 non-null    int64 \n",
      " 12  active          199 non-null    object\n",
      " 13  type_activity   199 non-null    object\n",
      " 14  indicator       199 non-null    int64 \n",
      "dtypes: int64(8), object(7)\n",
      "memory usage: 23.4+ KB\n",
      "None\n"
     ]
    },
    {
     "data": {
      "text/html": [
       "<div>\n",
       "<style scoped>\n",
       "    .dataframe tbody tr th:only-of-type {\n",
       "        vertical-align: middle;\n",
       "    }\n",
       "\n",
       "    .dataframe tbody tr th {\n",
       "        vertical-align: top;\n",
       "    }\n",
       "\n",
       "    .dataframe thead th {\n",
       "        text-align: right;\n",
       "    }\n",
       "</style>\n",
       "<table border=\"1\" class=\"dataframe\">\n",
       "  <thead>\n",
       "    <tr style=\"text-align: right;\">\n",
       "      <th></th>\n",
       "      <th>id</th>\n",
       "      <th>location</th>\n",
       "      <th>population</th>\n",
       "      <th>community</th>\n",
       "      <th>name</th>\n",
       "      <th>residents</th>\n",
       "      <th>members</th>\n",
       "      <th>active_members</th>\n",
       "      <th>gender</th>\n",
       "      <th>experience</th>\n",
       "      <th>type_work</th>\n",
       "      <th>age</th>\n",
       "      <th>active</th>\n",
       "      <th>type_activity</th>\n",
       "      <th>indicator</th>\n",
       "    </tr>\n",
       "  </thead>\n",
       "  <tbody>\n",
       "    <tr>\n",
       "      <th>0</th>\n",
       "      <td>1</td>\n",
       "      <td>Октябрьский</td>\n",
       "      <td>8471</td>\n",
       "      <td>Городское поселение \"Поселок Октябрьский\"</td>\n",
       "      <td>«Питомник»</td>\n",
       "      <td>1433</td>\n",
       "      <td>25</td>\n",
       "      <td>4</td>\n",
       "      <td>муж</td>\n",
       "      <td>7</td>\n",
       "      <td>Безработный</td>\n",
       "      <td>55</td>\n",
       "      <td>Активный</td>\n",
       "      <td>Благоустройство</td>\n",
       "      <td>3</td>\n",
       "    </tr>\n",
       "    <tr>\n",
       "      <th>1</th>\n",
       "      <td>2</td>\n",
       "      <td>Октябрьский</td>\n",
       "      <td>8471</td>\n",
       "      <td>Городское поселение \"Поселок Октябрьский\"</td>\n",
       "      <td>«Олимп»</td>\n",
       "      <td>563</td>\n",
       "      <td>19</td>\n",
       "      <td>7</td>\n",
       "      <td>жен</td>\n",
       "      <td>3</td>\n",
       "      <td>Безработный</td>\n",
       "      <td>35</td>\n",
       "      <td>Активный</td>\n",
       "      <td>Благоустройство</td>\n",
       "      <td>3</td>\n",
       "    </tr>\n",
       "    <tr>\n",
       "      <th>2</th>\n",
       "      <td>3</td>\n",
       "      <td>Октябрьский</td>\n",
       "      <td>8471</td>\n",
       "      <td>Городское поселение \"Поселок Октябрьский\"</td>\n",
       "      <td>«Заречный»</td>\n",
       "      <td>271</td>\n",
       "      <td>16</td>\n",
       "      <td>2</td>\n",
       "      <td>жен</td>\n",
       "      <td>5</td>\n",
       "      <td>Домохозяйка</td>\n",
       "      <td>35</td>\n",
       "      <td>Активный</td>\n",
       "      <td>Благоустройство</td>\n",
       "      <td>3</td>\n",
       "    </tr>\n",
       "    <tr>\n",
       "      <th>3</th>\n",
       "      <td>4</td>\n",
       "      <td>Октябрьский</td>\n",
       "      <td>8471</td>\n",
       "      <td>Городское поселение \"Поселок Октябрьский\"</td>\n",
       "      <td>«Центральный»</td>\n",
       "      <td>231</td>\n",
       "      <td>35</td>\n",
       "      <td>2</td>\n",
       "      <td>жен</td>\n",
       "      <td>3</td>\n",
       "      <td>Руководитель бизнес</td>\n",
       "      <td>42</td>\n",
       "      <td>неактивный</td>\n",
       "      <td>Благоустройство</td>\n",
       "      <td>3</td>\n",
       "    </tr>\n",
       "    <tr>\n",
       "      <th>4</th>\n",
       "      <td>5</td>\n",
       "      <td>Октябрьский</td>\n",
       "      <td>8471</td>\n",
       "      <td>Городское поселение \"Поселок Октябрьский\"</td>\n",
       "      <td>«Юность»</td>\n",
       "      <td>148</td>\n",
       "      <td>15</td>\n",
       "      <td>2</td>\n",
       "      <td>муж</td>\n",
       "      <td>3</td>\n",
       "      <td>Мобилизованный</td>\n",
       "      <td>38</td>\n",
       "      <td>неактивный</td>\n",
       "      <td>Благоустройство</td>\n",
       "      <td>1</td>\n",
       "    </tr>\n",
       "  </tbody>\n",
       "</table>\n",
       "</div>"
      ],
      "text/plain": [
       "   id     location  population                                   community  \\\n",
       "0   1  Октябрьский        8471  Городское поселение \"Поселок Октябрьский\"    \n",
       "1   2  Октябрьский        8471  Городское поселение \"Поселок Октябрьский\"    \n",
       "2   3  Октябрьский        8471  Городское поселение \"Поселок Октябрьский\"    \n",
       "3   4  Октябрьский        8471  Городское поселение \"Поселок Октябрьский\"    \n",
       "4   5  Октябрьский        8471  Городское поселение \"Поселок Октябрьский\"    \n",
       "\n",
       "            name  residents  members  active_members gender  experience  \\\n",
       "0     «Питомник»       1433       25               4    муж           7   \n",
       "1        «Олимп»        563       19               7    жен           3   \n",
       "2     «Заречный»        271       16               2    жен           5   \n",
       "3  «Центральный»        231       35               2    жен           3   \n",
       "4       «Юность»        148       15               2    муж           3   \n",
       "\n",
       "             type_work  age      active    type_activity  indicator  \n",
       "0          Безработный   55    Активный  Благоустройство          3  \n",
       "1          Безработный   35    Активный  Благоустройство          3  \n",
       "2          Домохозяйка   35    Активный  Благоустройство          3  \n",
       "3  Руководитель бизнес   42  неактивный  Благоустройство          3  \n",
       "4       Мобилизованный   38  неактивный  Благоустройство          1  "
      ]
     },
     "execution_count": 3,
     "metadata": {},
     "output_type": "execute_result"
    }
   ],
   "source": [
    "#выгрузим ексель файл с данными ТОС в датафрейм\n",
    "names=['id', 'location', 'population', 'community', 'name', 'residents', 'members', 'active_members', 'gender', 'experience', \n",
    "           'type_work', 'age', 'active',  'type_activity', 'indicator']\n",
    "tos = pd.read_excel(file_name, sheet_name='ТОС_анализ', names=names)\n",
    "print(tos.info())\n",
    "tos.head(5)"
   ]
  },
  {
   "cell_type": "code",
   "execution_count": 4,
   "id": "09e20809-7b90-4e3c-8a13-9a0db5de195f",
   "metadata": {},
   "outputs": [],
   "source": [
    "# считаем что неактивный ТОС с индикатором 0,1, если 2 и выше, то это уже активный ТОС\n",
    "def categorize_active(p):\n",
    "    try:\n",
    "        if p < 2:\n",
    "            return 'неактивный'\n",
    "        else:\n",
    "            return 'активный'\n",
    "    except:\n",
    "        pass"
   ]
  },
  {
   "cell_type": "code",
   "execution_count": 5,
   "id": "886c347f-da2f-43a6-8e6e-788d5efae14b",
   "metadata": {},
   "outputs": [],
   "source": [
    "# добавим столбец с категориями\n",
    "tos['active_new'] = tos['indicator'].apply(categorize_active)"
   ]
  },
  {
   "cell_type": "code",
   "execution_count": 6,
   "id": "739bdaee-0236-48cf-8ec1-74379504c52d",
   "metadata": {},
   "outputs": [],
   "source": [
    "# посчитаем вовлеченность членов ТОС \n",
    "tos['act_members_per'] = tos['active_members']/tos['members']"
   ]
  },
  {
   "cell_type": "code",
   "execution_count": 7,
   "id": "647f4ea3-a95d-4500-98f5-1bcc018151d7",
   "metadata": {},
   "outputs": [
    {
     "data": {
      "text/html": [
       "<div>\n",
       "<style scoped>\n",
       "    .dataframe tbody tr th:only-of-type {\n",
       "        vertical-align: middle;\n",
       "    }\n",
       "\n",
       "    .dataframe tbody tr th {\n",
       "        vertical-align: top;\n",
       "    }\n",
       "\n",
       "    .dataframe thead th {\n",
       "        text-align: right;\n",
       "    }\n",
       "</style>\n",
       "<table border=\"1\" class=\"dataframe\">\n",
       "  <thead>\n",
       "    <tr style=\"text-align: right;\">\n",
       "      <th></th>\n",
       "      <th>id</th>\n",
       "      <th>location</th>\n",
       "      <th>population</th>\n",
       "      <th>community</th>\n",
       "      <th>name</th>\n",
       "      <th>residents</th>\n",
       "      <th>members</th>\n",
       "      <th>active_members</th>\n",
       "      <th>gender</th>\n",
       "      <th>experience</th>\n",
       "      <th>type_work</th>\n",
       "      <th>age</th>\n",
       "      <th>active</th>\n",
       "      <th>type_activity</th>\n",
       "      <th>indicator</th>\n",
       "      <th>active_new</th>\n",
       "      <th>act_members_per</th>\n",
       "    </tr>\n",
       "  </thead>\n",
       "  <tbody>\n",
       "    <tr>\n",
       "      <th>97</th>\n",
       "      <td>98</td>\n",
       "      <td>Дубовское с/п</td>\n",
       "      <td>17952</td>\n",
       "      <td>Дубовское сельское поселение\\nп. Дубовое</td>\n",
       "      <td>Ново-Дубовской</td>\n",
       "      <td>300</td>\n",
       "      <td>19</td>\n",
       "      <td>19</td>\n",
       "      <td>муж</td>\n",
       "      <td>2</td>\n",
       "      <td>Найм бизнес</td>\n",
       "      <td>39</td>\n",
       "      <td>активный</td>\n",
       "      <td>благоустройство, культура и сохранение традиций</td>\n",
       "      <td>2</td>\n",
       "      <td>активный</td>\n",
       "      <td>1.000000</td>\n",
       "    </tr>\n",
       "    <tr>\n",
       "      <th>62</th>\n",
       "      <td>63</td>\n",
       "      <td>Беловское с/п</td>\n",
       "      <td>6058</td>\n",
       "      <td>Беловское сельское поселение\\nс. Севрюково</td>\n",
       "      <td>«Васильковый»</td>\n",
       "      <td>520</td>\n",
       "      <td>150</td>\n",
       "      <td>10</td>\n",
       "      <td>муж</td>\n",
       "      <td>5</td>\n",
       "      <td>ИП</td>\n",
       "      <td>26</td>\n",
       "      <td>активный</td>\n",
       "      <td>Благоустройство</td>\n",
       "      <td>2</td>\n",
       "      <td>активный</td>\n",
       "      <td>0.066667</td>\n",
       "    </tr>\n",
       "    <tr>\n",
       "      <th>151</th>\n",
       "      <td>152</td>\n",
       "      <td>Новосадовское с/п</td>\n",
       "      <td>12741</td>\n",
       "      <td>Новосадовское сельское поселение\\nп. Новосадовый</td>\n",
       "      <td>ТОС \"Березки-4\"</td>\n",
       "      <td>98</td>\n",
       "      <td>98</td>\n",
       "      <td>26</td>\n",
       "      <td>муж</td>\n",
       "      <td>2</td>\n",
       "      <td>ИП</td>\n",
       "      <td>35</td>\n",
       "      <td>активный</td>\n",
       "      <td>Благоустройство</td>\n",
       "      <td>1</td>\n",
       "      <td>неактивный</td>\n",
       "      <td>0.265306</td>\n",
       "    </tr>\n",
       "    <tr>\n",
       "      <th>92</th>\n",
       "      <td>93</td>\n",
       "      <td>Головинское с/п</td>\n",
       "      <td>2362</td>\n",
       "      <td>Головинское сельское поселение с. Головино</td>\n",
       "      <td>\"Григорьевский\"</td>\n",
       "      <td>331</td>\n",
       "      <td>24</td>\n",
       "      <td>5</td>\n",
       "      <td>муж</td>\n",
       "      <td>7</td>\n",
       "      <td>Найм в бюджетной организации</td>\n",
       "      <td>37</td>\n",
       "      <td>активный</td>\n",
       "      <td>благоустройство, физкультура, работа с молодежью</td>\n",
       "      <td>3</td>\n",
       "      <td>активный</td>\n",
       "      <td>0.208333</td>\n",
       "    </tr>\n",
       "    <tr>\n",
       "      <th>16</th>\n",
       "      <td>17</td>\n",
       "      <td>Разумное</td>\n",
       "      <td>30517</td>\n",
       "      <td>Городское поселение \"Поселок Разумное\"</td>\n",
       "      <td>Подснежник</td>\n",
       "      <td>120</td>\n",
       "      <td>120</td>\n",
       "      <td>2</td>\n",
       "      <td>жен</td>\n",
       "      <td>7</td>\n",
       "      <td>Безработный</td>\n",
       "      <td>40</td>\n",
       "      <td>неактивный</td>\n",
       "      <td>Благоустройство</td>\n",
       "      <td>0</td>\n",
       "      <td>неактивный</td>\n",
       "      <td>0.016667</td>\n",
       "    </tr>\n",
       "  </tbody>\n",
       "</table>\n",
       "</div>"
      ],
      "text/plain": [
       "      id           location  population  \\\n",
       "97    98      Дубовское с/п       17952   \n",
       "62    63      Беловское с/п        6058   \n",
       "151  152  Новосадовское с/п       12741   \n",
       "92    93    Головинское с/п        2362   \n",
       "16    17           Разумное       30517   \n",
       "\n",
       "                                            community             name  \\\n",
       "97           Дубовское сельское поселение\\nп. Дубовое   Ново-Дубовской   \n",
       "62         Беловское сельское поселение\\nс. Севрюково    «Васильковый»   \n",
       "151  Новосадовское сельское поселение\\nп. Новосадовый  ТОС \"Березки-4\"   \n",
       "92         Головинское сельское поселение с. Головино  \"Григорьевский\"   \n",
       "16             Городское поселение \"Поселок Разумное\"       Подснежник   \n",
       "\n",
       "     residents  members  active_members gender  experience  \\\n",
       "97         300       19              19    муж           2   \n",
       "62         520      150              10    муж           5   \n",
       "151         98       98              26    муж           2   \n",
       "92         331       24               5    муж           7   \n",
       "16         120      120               2    жен           7   \n",
       "\n",
       "                        type_work  age      active  \\\n",
       "97                    Найм бизнес   39    активный   \n",
       "62                             ИП   26    активный   \n",
       "151                            ИП   35    активный   \n",
       "92   Найм в бюджетной организации   37    активный   \n",
       "16                    Безработный   40  неактивный   \n",
       "\n",
       "                                        type_activity  indicator  active_new  \\\n",
       "97    благоустройство, культура и сохранение традиций          2    активный   \n",
       "62                                    Благоустройство          2    активный   \n",
       "151                                   Благоустройство          1  неактивный   \n",
       "92   благоустройство, физкультура, работа с молодежью          3    активный   \n",
       "16                                    Благоустройство          0  неактивный   \n",
       "\n",
       "     act_members_per  \n",
       "97          1.000000  \n",
       "62          0.066667  \n",
       "151         0.265306  \n",
       "92          0.208333  \n",
       "16          0.016667  "
      ]
     },
     "execution_count": 7,
     "metadata": {},
     "output_type": "execute_result"
    }
   ],
   "source": [
    "tos.sample(5)"
   ]
  },
  {
   "cell_type": "markdown",
   "id": "43d42e80-ed8f-4f53-9902-993351f726e7",
   "metadata": {},
   "source": [
    "#### Часть 2. Исследовательский анализ данных"
   ]
  },
  {
   "cell_type": "markdown",
   "id": "85dbb626-84a8-44a9-b77f-5869d3d666a9",
   "metadata": {},
   "source": [
    "<a id = '2-bullet'></a>\n",
    "##### Расчет ключевых показателей метрик."
   ]
  },
  {
   "cell_type": "code",
   "execution_count": 8,
   "id": "f0ac83a5-a7d7-431a-b12e-8026d7783f1b",
   "metadata": {},
   "outputs": [
    {
     "data": {
      "text/html": [
       "<div>\n",
       "<style scoped>\n",
       "    .dataframe tbody tr th:only-of-type {\n",
       "        vertical-align: middle;\n",
       "    }\n",
       "\n",
       "    .dataframe tbody tr th {\n",
       "        vertical-align: top;\n",
       "    }\n",
       "\n",
       "    .dataframe thead th {\n",
       "        text-align: right;\n",
       "    }\n",
       "</style>\n",
       "<table border=\"1\" class=\"dataframe\">\n",
       "  <thead>\n",
       "    <tr style=\"text-align: right;\">\n",
       "      <th></th>\n",
       "      <th>id</th>\n",
       "      <th>population</th>\n",
       "      <th>residents</th>\n",
       "      <th>members</th>\n",
       "      <th>active_members</th>\n",
       "      <th>experience</th>\n",
       "      <th>age</th>\n",
       "      <th>indicator</th>\n",
       "      <th>act_members_per</th>\n",
       "    </tr>\n",
       "  </thead>\n",
       "  <tbody>\n",
       "    <tr>\n",
       "      <th>count</th>\n",
       "      <td>199.000000</td>\n",
       "      <td>199.000000</td>\n",
       "      <td>199.000000</td>\n",
       "      <td>199.000000</td>\n",
       "      <td>199.000000</td>\n",
       "      <td>199.000000</td>\n",
       "      <td>199.000000</td>\n",
       "      <td>199.000000</td>\n",
       "      <td>199.000000</td>\n",
       "    </tr>\n",
       "    <tr>\n",
       "      <th>mean</th>\n",
       "      <td>100.000000</td>\n",
       "      <td>12887.010050</td>\n",
       "      <td>329.226131</td>\n",
       "      <td>127.608040</td>\n",
       "      <td>9.814070</td>\n",
       "      <td>4.909548</td>\n",
       "      <td>43.869347</td>\n",
       "      <td>2.045226</td>\n",
       "      <td>0.232255</td>\n",
       "    </tr>\n",
       "    <tr>\n",
       "      <th>std</th>\n",
       "      <td>57.590508</td>\n",
       "      <td>10463.669313</td>\n",
       "      <td>979.425566</td>\n",
       "      <td>177.414646</td>\n",
       "      <td>10.609725</td>\n",
       "      <td>2.576479</td>\n",
       "      <td>12.931951</td>\n",
       "      <td>1.021469</td>\n",
       "      <td>0.303112</td>\n",
       "    </tr>\n",
       "    <tr>\n",
       "      <th>min</th>\n",
       "      <td>1.000000</td>\n",
       "      <td>1034.000000</td>\n",
       "      <td>20.000000</td>\n",
       "      <td>4.000000</td>\n",
       "      <td>0.000000</td>\n",
       "      <td>1.000000</td>\n",
       "      <td>19.000000</td>\n",
       "      <td>0.000000</td>\n",
       "      <td>0.000000</td>\n",
       "    </tr>\n",
       "    <tr>\n",
       "      <th>25%</th>\n",
       "      <td>50.500000</td>\n",
       "      <td>4634.500000</td>\n",
       "      <td>106.000000</td>\n",
       "      <td>25.000000</td>\n",
       "      <td>3.000000</td>\n",
       "      <td>3.000000</td>\n",
       "      <td>34.000000</td>\n",
       "      <td>1.000000</td>\n",
       "      <td>0.040000</td>\n",
       "    </tr>\n",
       "    <tr>\n",
       "      <th>50%</th>\n",
       "      <td>100.000000</td>\n",
       "      <td>8471.000000</td>\n",
       "      <td>167.000000</td>\n",
       "      <td>56.000000</td>\n",
       "      <td>5.000000</td>\n",
       "      <td>5.000000</td>\n",
       "      <td>39.000000</td>\n",
       "      <td>2.000000</td>\n",
       "      <td>0.100000</td>\n",
       "    </tr>\n",
       "    <tr>\n",
       "      <th>75%</th>\n",
       "      <td>149.500000</td>\n",
       "      <td>21015.500000</td>\n",
       "      <td>314.500000</td>\n",
       "      <td>150.000000</td>\n",
       "      <td>13.000000</td>\n",
       "      <td>6.000000</td>\n",
       "      <td>54.000000</td>\n",
       "      <td>3.000000</td>\n",
       "      <td>0.250000</td>\n",
       "    </tr>\n",
       "    <tr>\n",
       "      <th>max</th>\n",
       "      <td>199.000000</td>\n",
       "      <td>30517.000000</td>\n",
       "      <td>13587.000000</td>\n",
       "      <td>1120.000000</td>\n",
       "      <td>63.000000</td>\n",
       "      <td>14.000000</td>\n",
       "      <td>75.000000</td>\n",
       "      <td>5.000000</td>\n",
       "      <td>1.000000</td>\n",
       "    </tr>\n",
       "  </tbody>\n",
       "</table>\n",
       "</div>"
      ],
      "text/plain": [
       "               id    population     residents      members  active_members  \\\n",
       "count  199.000000    199.000000    199.000000   199.000000      199.000000   \n",
       "mean   100.000000  12887.010050    329.226131   127.608040        9.814070   \n",
       "std     57.590508  10463.669313    979.425566   177.414646       10.609725   \n",
       "min      1.000000   1034.000000     20.000000     4.000000        0.000000   \n",
       "25%     50.500000   4634.500000    106.000000    25.000000        3.000000   \n",
       "50%    100.000000   8471.000000    167.000000    56.000000        5.000000   \n",
       "75%    149.500000  21015.500000    314.500000   150.000000       13.000000   \n",
       "max    199.000000  30517.000000  13587.000000  1120.000000       63.000000   \n",
       "\n",
       "       experience         age   indicator  act_members_per  \n",
       "count  199.000000  199.000000  199.000000       199.000000  \n",
       "mean     4.909548   43.869347    2.045226         0.232255  \n",
       "std      2.576479   12.931951    1.021469         0.303112  \n",
       "min      1.000000   19.000000    0.000000         0.000000  \n",
       "25%      3.000000   34.000000    1.000000         0.040000  \n",
       "50%      5.000000   39.000000    2.000000         0.100000  \n",
       "75%      6.000000   54.000000    3.000000         0.250000  \n",
       "max     14.000000   75.000000    5.000000         1.000000  "
      ]
     },
     "execution_count": 8,
     "metadata": {},
     "output_type": "execute_result"
    }
   ],
   "source": [
    "tos.describe()"
   ]
  },
  {
   "cell_type": "code",
   "execution_count": 9,
   "id": "9f732858-c2a6-44fa-a4af-24e5772cddee",
   "metadata": {},
   "outputs": [
    {
     "data": {
      "text/html": [
       "<div>\n",
       "<style scoped>\n",
       "    .dataframe tbody tr th:only-of-type {\n",
       "        vertical-align: middle;\n",
       "    }\n",
       "\n",
       "    .dataframe tbody tr th {\n",
       "        vertical-align: top;\n",
       "    }\n",
       "\n",
       "    .dataframe thead th {\n",
       "        text-align: right;\n",
       "    }\n",
       "</style>\n",
       "<table border=\"1\" class=\"dataframe\">\n",
       "  <thead>\n",
       "    <tr style=\"text-align: right;\">\n",
       "      <th></th>\n",
       "      <th>id</th>\n",
       "      <th>population</th>\n",
       "      <th>residents</th>\n",
       "      <th>members</th>\n",
       "      <th>active_members</th>\n",
       "      <th>experience</th>\n",
       "      <th>age</th>\n",
       "      <th>indicator</th>\n",
       "      <th>act_members_per</th>\n",
       "    </tr>\n",
       "  </thead>\n",
       "  <tbody>\n",
       "    <tr>\n",
       "      <th>count</th>\n",
       "      <td>136.000000</td>\n",
       "      <td>136.000000</td>\n",
       "      <td>136.000000</td>\n",
       "      <td>136.000000</td>\n",
       "      <td>136.000000</td>\n",
       "      <td>136.000000</td>\n",
       "      <td>136.000000</td>\n",
       "      <td>136.000000</td>\n",
       "      <td>136.000000</td>\n",
       "    </tr>\n",
       "    <tr>\n",
       "      <th>mean</th>\n",
       "      <td>112.904412</td>\n",
       "      <td>9397.492647</td>\n",
       "      <td>281.610294</td>\n",
       "      <td>115.088235</td>\n",
       "      <td>11.375000</td>\n",
       "      <td>5.220588</td>\n",
       "      <td>43.617647</td>\n",
       "      <td>2.602941</td>\n",
       "      <td>0.262210</td>\n",
       "    </tr>\n",
       "    <tr>\n",
       "      <th>std</th>\n",
       "      <td>52.765572</td>\n",
       "      <td>7846.035147</td>\n",
       "      <td>279.977517</td>\n",
       "      <td>175.447047</td>\n",
       "      <td>11.855886</td>\n",
       "      <td>2.484593</td>\n",
       "      <td>12.018541</td>\n",
       "      <td>0.691530</td>\n",
       "      <td>0.305989</td>\n",
       "    </tr>\n",
       "    <tr>\n",
       "      <th>min</th>\n",
       "      <td>1.000000</td>\n",
       "      <td>1034.000000</td>\n",
       "      <td>27.000000</td>\n",
       "      <td>4.000000</td>\n",
       "      <td>0.000000</td>\n",
       "      <td>1.000000</td>\n",
       "      <td>22.000000</td>\n",
       "      <td>2.000000</td>\n",
       "      <td>0.000000</td>\n",
       "    </tr>\n",
       "    <tr>\n",
       "      <th>25%</th>\n",
       "      <td>71.750000</td>\n",
       "      <td>3384.000000</td>\n",
       "      <td>109.750000</td>\n",
       "      <td>22.000000</td>\n",
       "      <td>3.000000</td>\n",
       "      <td>3.000000</td>\n",
       "      <td>35.000000</td>\n",
       "      <td>2.000000</td>\n",
       "      <td>0.062307</td>\n",
       "    </tr>\n",
       "    <tr>\n",
       "      <th>50%</th>\n",
       "      <td>112.500000</td>\n",
       "      <td>6092.000000</td>\n",
       "      <td>194.500000</td>\n",
       "      <td>52.000000</td>\n",
       "      <td>6.500000</td>\n",
       "      <td>5.000000</td>\n",
       "      <td>39.000000</td>\n",
       "      <td>2.000000</td>\n",
       "      <td>0.134848</td>\n",
       "    </tr>\n",
       "    <tr>\n",
       "      <th>75%</th>\n",
       "      <td>158.500000</td>\n",
       "      <td>12741.000000</td>\n",
       "      <td>328.000000</td>\n",
       "      <td>128.500000</td>\n",
       "      <td>15.000000</td>\n",
       "      <td>6.000000</td>\n",
       "      <td>53.250000</td>\n",
       "      <td>3.000000</td>\n",
       "      <td>0.272321</td>\n",
       "    </tr>\n",
       "    <tr>\n",
       "      <th>max</th>\n",
       "      <td>199.000000</td>\n",
       "      <td>30517.000000</td>\n",
       "      <td>1640.000000</td>\n",
       "      <td>1120.000000</td>\n",
       "      <td>63.000000</td>\n",
       "      <td>14.000000</td>\n",
       "      <td>74.000000</td>\n",
       "      <td>5.000000</td>\n",
       "      <td>1.000000</td>\n",
       "    </tr>\n",
       "  </tbody>\n",
       "</table>\n",
       "</div>"
      ],
      "text/plain": [
       "               id    population    residents      members  active_members  \\\n",
       "count  136.000000    136.000000   136.000000   136.000000      136.000000   \n",
       "mean   112.904412   9397.492647   281.610294   115.088235       11.375000   \n",
       "std     52.765572   7846.035147   279.977517   175.447047       11.855886   \n",
       "min      1.000000   1034.000000    27.000000     4.000000        0.000000   \n",
       "25%     71.750000   3384.000000   109.750000    22.000000        3.000000   \n",
       "50%    112.500000   6092.000000   194.500000    52.000000        6.500000   \n",
       "75%    158.500000  12741.000000   328.000000   128.500000       15.000000   \n",
       "max    199.000000  30517.000000  1640.000000  1120.000000       63.000000   \n",
       "\n",
       "       experience         age   indicator  act_members_per  \n",
       "count  136.000000  136.000000  136.000000       136.000000  \n",
       "mean     5.220588   43.617647    2.602941         0.262210  \n",
       "std      2.484593   12.018541    0.691530         0.305989  \n",
       "min      1.000000   22.000000    2.000000         0.000000  \n",
       "25%      3.000000   35.000000    2.000000         0.062307  \n",
       "50%      5.000000   39.000000    2.000000         0.134848  \n",
       "75%      6.000000   53.250000    3.000000         0.272321  \n",
       "max     14.000000   74.000000    5.000000         1.000000  "
      ]
     },
     "execution_count": 9,
     "metadata": {},
     "output_type": "execute_result"
    }
   ],
   "source": [
    "# посмотрим показатели для активных ТОС\n",
    "tos.loc[ tos['active_new']=='активный'].describe()"
   ]
  },
  {
   "cell_type": "code",
   "execution_count": 10,
   "id": "171ee9d5-2a04-47d1-9abc-7a880437385a",
   "metadata": {},
   "outputs": [
    {
     "data": {
      "text/html": [
       "<div>\n",
       "<style scoped>\n",
       "    .dataframe tbody tr th:only-of-type {\n",
       "        vertical-align: middle;\n",
       "    }\n",
       "\n",
       "    .dataframe tbody tr th {\n",
       "        vertical-align: top;\n",
       "    }\n",
       "\n",
       "    .dataframe thead th {\n",
       "        text-align: right;\n",
       "    }\n",
       "</style>\n",
       "<table border=\"1\" class=\"dataframe\">\n",
       "  <thead>\n",
       "    <tr style=\"text-align: right;\">\n",
       "      <th></th>\n",
       "      <th>id</th>\n",
       "      <th>population</th>\n",
       "      <th>residents</th>\n",
       "      <th>members</th>\n",
       "      <th>active_members</th>\n",
       "      <th>experience</th>\n",
       "      <th>age</th>\n",
       "      <th>indicator</th>\n",
       "      <th>act_members_per</th>\n",
       "    </tr>\n",
       "  </thead>\n",
       "  <tbody>\n",
       "    <tr>\n",
       "      <th>count</th>\n",
       "      <td>63.000000</td>\n",
       "      <td>63.000000</td>\n",
       "      <td>63.000000</td>\n",
       "      <td>63.000000</td>\n",
       "      <td>63.000000</td>\n",
       "      <td>63.000000</td>\n",
       "      <td>63.000000</td>\n",
       "      <td>63.000000</td>\n",
       "      <td>63.000000</td>\n",
       "    </tr>\n",
       "    <tr>\n",
       "      <th>mean</th>\n",
       "      <td>72.142857</td>\n",
       "      <td>20419.936508</td>\n",
       "      <td>432.015873</td>\n",
       "      <td>154.634921</td>\n",
       "      <td>6.444444</td>\n",
       "      <td>4.238095</td>\n",
       "      <td>44.412698</td>\n",
       "      <td>0.841270</td>\n",
       "      <td>0.167591</td>\n",
       "    </tr>\n",
       "    <tr>\n",
       "      <th>std</th>\n",
       "      <td>58.101096</td>\n",
       "      <td>11456.152676</td>\n",
       "      <td>1696.200921</td>\n",
       "      <td>180.025921</td>\n",
       "      <td>6.044933</td>\n",
       "      <td>2.662247</td>\n",
       "      <td>14.802610</td>\n",
       "      <td>0.368359</td>\n",
       "      <td>0.288661</td>\n",
       "    </tr>\n",
       "    <tr>\n",
       "      <th>min</th>\n",
       "      <td>5.000000</td>\n",
       "      <td>1757.000000</td>\n",
       "      <td>20.000000</td>\n",
       "      <td>10.000000</td>\n",
       "      <td>0.000000</td>\n",
       "      <td>1.000000</td>\n",
       "      <td>19.000000</td>\n",
       "      <td>0.000000</td>\n",
       "      <td>0.000000</td>\n",
       "    </tr>\n",
       "    <tr>\n",
       "      <th>25%</th>\n",
       "      <td>24.500000</td>\n",
       "      <td>7421.000000</td>\n",
       "      <td>100.500000</td>\n",
       "      <td>34.500000</td>\n",
       "      <td>2.000000</td>\n",
       "      <td>2.000000</td>\n",
       "      <td>32.500000</td>\n",
       "      <td>1.000000</td>\n",
       "      <td>0.016530</td>\n",
       "    </tr>\n",
       "    <tr>\n",
       "      <th>50%</th>\n",
       "      <td>44.000000</td>\n",
       "      <td>30517.000000</td>\n",
       "      <td>150.000000</td>\n",
       "      <td>102.000000</td>\n",
       "      <td>4.000000</td>\n",
       "      <td>3.000000</td>\n",
       "      <td>40.000000</td>\n",
       "      <td>1.000000</td>\n",
       "      <td>0.041667</td>\n",
       "    </tr>\n",
       "    <tr>\n",
       "      <th>75%</th>\n",
       "      <td>127.000000</td>\n",
       "      <td>30517.000000</td>\n",
       "      <td>285.000000</td>\n",
       "      <td>230.000000</td>\n",
       "      <td>9.000000</td>\n",
       "      <td>6.000000</td>\n",
       "      <td>56.500000</td>\n",
       "      <td>1.000000</td>\n",
       "      <td>0.126667</td>\n",
       "    </tr>\n",
       "    <tr>\n",
       "      <th>max</th>\n",
       "      <td>185.000000</td>\n",
       "      <td>30517.000000</td>\n",
       "      <td>13587.000000</td>\n",
       "      <td>935.000000</td>\n",
       "      <td>26.000000</td>\n",
       "      <td>14.000000</td>\n",
       "      <td>75.000000</td>\n",
       "      <td>1.000000</td>\n",
       "      <td>1.000000</td>\n",
       "    </tr>\n",
       "  </tbody>\n",
       "</table>\n",
       "</div>"
      ],
      "text/plain": [
       "               id    population     residents     members  active_members  \\\n",
       "count   63.000000     63.000000     63.000000   63.000000       63.000000   \n",
       "mean    72.142857  20419.936508    432.015873  154.634921        6.444444   \n",
       "std     58.101096  11456.152676   1696.200921  180.025921        6.044933   \n",
       "min      5.000000   1757.000000     20.000000   10.000000        0.000000   \n",
       "25%     24.500000   7421.000000    100.500000   34.500000        2.000000   \n",
       "50%     44.000000  30517.000000    150.000000  102.000000        4.000000   \n",
       "75%    127.000000  30517.000000    285.000000  230.000000        9.000000   \n",
       "max    185.000000  30517.000000  13587.000000  935.000000       26.000000   \n",
       "\n",
       "       experience        age  indicator  act_members_per  \n",
       "count   63.000000  63.000000  63.000000        63.000000  \n",
       "mean     4.238095  44.412698   0.841270         0.167591  \n",
       "std      2.662247  14.802610   0.368359         0.288661  \n",
       "min      1.000000  19.000000   0.000000         0.000000  \n",
       "25%      2.000000  32.500000   1.000000         0.016530  \n",
       "50%      3.000000  40.000000   1.000000         0.041667  \n",
       "75%      6.000000  56.500000   1.000000         0.126667  \n",
       "max     14.000000  75.000000   1.000000         1.000000  "
      ]
     },
     "execution_count": 10,
     "metadata": {},
     "output_type": "execute_result"
    }
   ],
   "source": [
    "# посмотрим показатели для неактивных ТОС\n",
    "tos.loc[ tos['active_new']=='неактивный'].describe()"
   ]
  },
  {
   "cell_type": "markdown",
   "id": "96e21d71-d269-4d3f-9173-28699a406f39",
   "metadata": {},
   "source": [
    "Если смотреть по средним показателям то для активных ТОСов выходит размер поселений, количество членов меньше чем у неактивных. Средний возраст председателя незначительно отличается. Средний процент вовлеченности членов ТОС для активных составляет 26%, для неактивных почти 17%."
   ]
  },
  {
   "cell_type": "markdown",
   "id": "323cc652-3ea3-4d5a-b41c-1da3a115e8c0",
   "metadata": {},
   "source": [
    "<a id = '3-bullet'></a>\n",
    "##### Гистограммы распределения метрик."
   ]
  },
  {
   "cell_type": "markdown",
   "id": "1e5e34ff-305d-4608-b930-885b10d35909",
   "metadata": {},
   "source": [
    "Рассмотрим распределение ТОС по различным населению, количеству жителей на территории ТОС, количеству членов, активистов и стажу и возрасту председателя в разрезе активных и неактивных ТОС."
   ]
  },
  {
   "cell_type": "code",
   "execution_count": 11,
   "id": "f45de863-b04b-4316-92a4-a654dd192180",
   "metadata": {},
   "outputs": [
    {
     "name": "stderr",
     "output_type": "stream",
     "text": [
      "C:\\ProgramData\\anaconda3\\Lib\\site-packages\\seaborn\\_oldcore.py:1119: FutureWarning: use_inf_as_na option is deprecated and will be removed in a future version. Convert inf values to NaN before operating instead.\n",
      "  with pd.option_context('mode.use_inf_as_na', True):\n"
     ]
    },
    {
     "data": {
      "image/png": "[encoded data removed]",
      "text/plain": [
       "<Figure size 500x300 with 1 Axes>"
      ]
     },
     "metadata": {},
     "output_type": "display_data"
    }
   ],
   "source": [
    "plt.figure(figsize=(5, 3))\n",
    "sns.histplot(x='population', data=tos, hue='active_new', common_norm=False, stat='density')\n",
    "plt.title('Нормированая гистограмма')\n",
    "plt.ylabel('Плотность')\n",
    "plt.show()"
   ]
  },
  {
   "cell_type": "code",
   "execution_count": 12,
   "id": "b0560261-f79d-41c4-8117-bb3cfe2de057",
   "metadata": {},
   "outputs": [
    {
     "name": "stderr",
     "output_type": "stream",
     "text": [
      "C:\\ProgramData\\anaconda3\\Lib\\site-packages\\seaborn\\_oldcore.py:1119: FutureWarning: use_inf_as_na option is deprecated and will be removed in a future version. Convert inf values to NaN before operating instead.\n",
      "  with pd.option_context('mode.use_inf_as_na', True):\n"
     ]
    },
    {
     "data": {
      "image/png": "[encoded data removed]",
      "text/plain": [
       "<Figure size 800x500 with 1 Axes>"
      ]
     },
     "metadata": {},
     "output_type": "display_data"
    }
   ],
   "source": [
    "plt.figure(figsize=(8, 5))\n",
    "sns.histplot(x='residents', data=tos, hue='active_new', common_norm=False, stat='density')\n",
    "plt.xlim(0.0, 1700)\n",
    "plt.title('Нормированая гистограмма')\n",
    "plt.ylabel('Плотность')\n",
    "plt.show()"
   ]
  },
  {
   "cell_type": "code",
   "execution_count": 13,
   "id": "7b5251ea-3d19-4809-bb0e-c7a668624856",
   "metadata": {},
   "outputs": [
    {
     "name": "stderr",
     "output_type": "stream",
     "text": [
      "C:\\ProgramData\\anaconda3\\Lib\\site-packages\\seaborn\\_oldcore.py:1119: FutureWarning: use_inf_as_na option is deprecated and will be removed in a future version. Convert inf values to NaN before operating instead.\n",
      "  with pd.option_context('mode.use_inf_as_na', True):\n"
     ]
    },
    {
     "data": {
      "image/png": "[encoded data removed]",
      "text/plain": [
       "<Figure size 700x300 with 1 Axes>"
      ]
     },
     "metadata": {},
     "output_type": "display_data"
    }
   ],
   "source": [
    "plt.figure(figsize=(7, 3))\n",
    "sns.histplot(x='members', data=tos, hue='active_new', common_norm=False, stat='density')\n",
    "plt.xlim(0.0, 1200)\n",
    "plt.title('Нормированая гистограмма')\n",
    "plt.ylabel('Плотность')\n",
    "plt.show()"
   ]
  },
  {
   "cell_type": "code",
   "execution_count": 14,
   "id": "2e6fbc1b-e402-4572-9aef-1e5d20c18b9d",
   "metadata": {},
   "outputs": [
    {
     "name": "stderr",
     "output_type": "stream",
     "text": [
      "C:\\ProgramData\\anaconda3\\Lib\\site-packages\\seaborn\\_oldcore.py:1119: FutureWarning: use_inf_as_na option is deprecated and will be removed in a future version. Convert inf values to NaN before operating instead.\n",
      "  with pd.option_context('mode.use_inf_as_na', True):\n"
     ]
    },
    {
     "data": {
      "image/png": "[encoded data removed]",
      "text/plain": [
       "<Figure size 700x300 with 1 Axes>"
      ]
     },
     "metadata": {},
     "output_type": "display_data"
    }
   ],
   "source": [
    "plt.figure(figsize=(7, 3))\n",
    "sns.histplot(x='active_members', data=tos, hue='active_new', common_norm=False, stat='density')\n",
    "plt.title('Нормированая гистограмма')\n",
    "plt.ylabel('Плотность')\n",
    "plt.show()"
   ]
  },
  {
   "cell_type": "code",
   "execution_count": 15,
   "id": "bd7e940c-805d-4815-8150-854abb6487c6",
   "metadata": {},
   "outputs": [
    {
     "name": "stderr",
     "output_type": "stream",
     "text": [
      "C:\\ProgramData\\anaconda3\\Lib\\site-packages\\seaborn\\_oldcore.py:1119: FutureWarning: use_inf_as_na option is deprecated and will be removed in a future version. Convert inf values to NaN before operating instead.\n",
      "  with pd.option_context('mode.use_inf_as_na', True):\n"
     ]
    },
    {
     "data": {
      "image/png": "[encoded data removed]",
      "text/plain": [
       "<Figure size 700x300 with 1 Axes>"
      ]
     },
     "metadata": {},
     "output_type": "display_data"
    }
   ],
   "source": [
    "plt.figure(figsize=(7, 3))\n",
    "sns.histplot(x='experience', data=tos, hue='active_new', common_norm=False, stat='density')\n",
    "plt.title('Нормированая гистограмма')\n",
    "plt.ylabel('Плотность')\n",
    "plt.show()"
   ]
  },
  {
   "cell_type": "code",
   "execution_count": 16,
   "id": "7bfbb827-bb6a-4d60-979c-2c54f7c9ca5f",
   "metadata": {},
   "outputs": [
    {
     "name": "stderr",
     "output_type": "stream",
     "text": [
      "C:\\ProgramData\\anaconda3\\Lib\\site-packages\\seaborn\\_oldcore.py:1119: FutureWarning: use_inf_as_na option is deprecated and will be removed in a future version. Convert inf values to NaN before operating instead.\n",
      "  with pd.option_context('mode.use_inf_as_na', True):\n"
     ]
    },
    {
     "data": {
      "image/png": "[encoded data removed]",
      "text/plain": [
       "<Figure size 700x300 with 1 Axes>"
      ]
     },
     "metadata": {},
     "output_type": "display_data"
    }
   ],
   "source": [
    "plt.figure(figsize=(7, 3))\n",
    "sns.histplot(x='age', data=tos, hue='active_new', common_norm=False, stat='density')\n",
    "plt.title('Нормированая гистограмма')\n",
    "plt.ylabel('Плотность')\n",
    "plt.show()"
   ]
  },
  {
   "cell_type": "code",
   "execution_count": 17,
   "id": "fb361d69-0df2-430b-896c-ecfc9a56c71a",
   "metadata": {},
   "outputs": [
    {
     "name": "stderr",
     "output_type": "stream",
     "text": [
      "C:\\ProgramData\\anaconda3\\Lib\\site-packages\\seaborn\\_oldcore.py:1119: FutureWarning: use_inf_as_na option is deprecated and will be removed in a future version. Convert inf values to NaN before operating instead.\n",
      "  with pd.option_context('mode.use_inf_as_na', True):\n"
     ]
    },
    {
     "data": {
      "image/png": "[encoded data removed]",
      "text/plain": [
       "<Figure size 700x300 with 1 Axes>"
      ]
     },
     "metadata": {},
     "output_type": "display_data"
    }
   ],
   "source": [
    "plt.figure(figsize=(7, 3))\n",
    "sns.histplot(x='act_members_per', data=tos, hue='active_new', common_norm=False, stat='density')\n",
    "plt.title('Нормированая гистограмма')\n",
    "plt.ylabel('Плотность')\n",
    "plt.show()"
   ]
  },
  {
   "cell_type": "markdown",
   "id": "177e71c6-452e-45ec-9e42-5e7c759f98a1",
   "metadata": {},
   "source": [
    "По гистограммам можно сделать вывод что для неактивных ТОС больше характерно большее количество жителей и членов ТОС, при этом меньшее количество активных членов, а так же чаще неактивные ТОС имеют председателя с меньшим стажем и по возрасту либо моложе 30 либо старше 60. Для неактивных ТОС процент вовлеченности участников значительно ниже чем у активных."
   ]
  },
  {
   "cell_type": "markdown",
   "id": "a1645135-7de2-4538-bab4-216740ca3e41",
   "metadata": {},
   "source": [
    "<a id = '4-bullet'></a>\n",
    "##### Корреляционный анализ."
   ]
  },
  {
   "cell_type": "code",
   "execution_count": 18,
   "id": "51a0c291-e332-401e-8e7f-6e571ce2c9c7",
   "metadata": {},
   "outputs": [
    {
     "data": {
      "text/html": [
       "<div>\n",
       "<style scoped>\n",
       "    .dataframe tbody tr th:only-of-type {\n",
       "        vertical-align: middle;\n",
       "    }\n",
       "\n",
       "    .dataframe tbody tr th {\n",
       "        vertical-align: top;\n",
       "    }\n",
       "\n",
       "    .dataframe thead th {\n",
       "        text-align: right;\n",
       "    }\n",
       "</style>\n",
       "<table border=\"1\" class=\"dataframe\">\n",
       "  <thead>\n",
       "    <tr style=\"text-align: right;\">\n",
       "      <th></th>\n",
       "      <th>id</th>\n",
       "      <th>population</th>\n",
       "      <th>residents</th>\n",
       "      <th>members</th>\n",
       "      <th>active_members</th>\n",
       "      <th>experience</th>\n",
       "      <th>age</th>\n",
       "      <th>indicator</th>\n",
       "      <th>act_members_per</th>\n",
       "    </tr>\n",
       "  </thead>\n",
       "  <tbody>\n",
       "    <tr>\n",
       "      <th>id</th>\n",
       "      <td>1.000000</td>\n",
       "      <td>-0.569035</td>\n",
       "      <td>0.031967</td>\n",
       "      <td>0.048247</td>\n",
       "      <td>0.343374</td>\n",
       "      <td>-0.000034</td>\n",
       "      <td>0.050155</td>\n",
       "      <td>0.351657</td>\n",
       "      <td>0.139090</td>\n",
       "    </tr>\n",
       "    <tr>\n",
       "      <th>population</th>\n",
       "      <td>-0.569035</td>\n",
       "      <td>1.000000</td>\n",
       "      <td>0.015022</td>\n",
       "      <td>0.322046</td>\n",
       "      <td>-0.196068</td>\n",
       "      <td>-0.072636</td>\n",
       "      <td>0.039363</td>\n",
       "      <td>-0.502366</td>\n",
       "      <td>-0.361932</td>\n",
       "    </tr>\n",
       "    <tr>\n",
       "      <th>residents</th>\n",
       "      <td>0.031967</td>\n",
       "      <td>0.015022</td>\n",
       "      <td>1.000000</td>\n",
       "      <td>0.081477</td>\n",
       "      <td>0.044848</td>\n",
       "      <td>0.075982</td>\n",
       "      <td>-0.054471</td>\n",
       "      <td>-0.016927</td>\n",
       "      <td>0.158939</td>\n",
       "    </tr>\n",
       "    <tr>\n",
       "      <th>members</th>\n",
       "      <td>0.048247</td>\n",
       "      <td>0.322046</td>\n",
       "      <td>0.081477</td>\n",
       "      <td>1.000000</td>\n",
       "      <td>0.226685</td>\n",
       "      <td>0.019788</td>\n",
       "      <td>0.042174</td>\n",
       "      <td>-0.092371</td>\n",
       "      <td>-0.370490</td>\n",
       "    </tr>\n",
       "    <tr>\n",
       "      <th>active_members</th>\n",
       "      <td>0.343374</td>\n",
       "      <td>-0.196068</td>\n",
       "      <td>0.044848</td>\n",
       "      <td>0.226685</td>\n",
       "      <td>1.000000</td>\n",
       "      <td>-0.008009</td>\n",
       "      <td>-0.094559</td>\n",
       "      <td>0.088392</td>\n",
       "      <td>0.339831</td>\n",
       "    </tr>\n",
       "    <tr>\n",
       "      <th>experience</th>\n",
       "      <td>-0.000034</td>\n",
       "      <td>-0.072636</td>\n",
       "      <td>0.075982</td>\n",
       "      <td>0.019788</td>\n",
       "      <td>-0.008009</td>\n",
       "      <td>1.000000</td>\n",
       "      <td>0.119999</td>\n",
       "      <td>0.226089</td>\n",
       "      <td>-0.044382</td>\n",
       "    </tr>\n",
       "    <tr>\n",
       "      <th>age</th>\n",
       "      <td>0.050155</td>\n",
       "      <td>0.039363</td>\n",
       "      <td>-0.054471</td>\n",
       "      <td>0.042174</td>\n",
       "      <td>-0.094559</td>\n",
       "      <td>0.119999</td>\n",
       "      <td>1.000000</td>\n",
       "      <td>-0.043137</td>\n",
       "      <td>-0.103385</td>\n",
       "    </tr>\n",
       "    <tr>\n",
       "      <th>indicator</th>\n",
       "      <td>0.351657</td>\n",
       "      <td>-0.502366</td>\n",
       "      <td>-0.016927</td>\n",
       "      <td>-0.092371</td>\n",
       "      <td>0.088392</td>\n",
       "      <td>0.226089</td>\n",
       "      <td>-0.043137</td>\n",
       "      <td>1.000000</td>\n",
       "      <td>0.103060</td>\n",
       "    </tr>\n",
       "    <tr>\n",
       "      <th>act_members_per</th>\n",
       "      <td>0.139090</td>\n",
       "      <td>-0.361932</td>\n",
       "      <td>0.158939</td>\n",
       "      <td>-0.370490</td>\n",
       "      <td>0.339831</td>\n",
       "      <td>-0.044382</td>\n",
       "      <td>-0.103385</td>\n",
       "      <td>0.103060</td>\n",
       "      <td>1.000000</td>\n",
       "    </tr>\n",
       "  </tbody>\n",
       "</table>\n",
       "</div>"
      ],
      "text/plain": [
       "                       id  population  residents   members  active_members  \\\n",
       "id               1.000000   -0.569035   0.031967  0.048247        0.343374   \n",
       "population      -0.569035    1.000000   0.015022  0.322046       -0.196068   \n",
       "residents        0.031967    0.015022   1.000000  0.081477        0.044848   \n",
       "members          0.048247    0.322046   0.081477  1.000000        0.226685   \n",
       "active_members   0.343374   -0.196068   0.044848  0.226685        1.000000   \n",
       "experience      -0.000034   -0.072636   0.075982  0.019788       -0.008009   \n",
       "age              0.050155    0.039363  -0.054471  0.042174       -0.094559   \n",
       "indicator        0.351657   -0.502366  -0.016927 -0.092371        0.088392   \n",
       "act_members_per  0.139090   -0.361932   0.158939 -0.370490        0.339831   \n",
       "\n",
       "                 experience       age  indicator  act_members_per  \n",
       "id                -0.000034  0.050155   0.351657         0.139090  \n",
       "population        -0.072636  0.039363  -0.502366        -0.361932  \n",
       "residents          0.075982 -0.054471  -0.016927         0.158939  \n",
       "members            0.019788  0.042174  -0.092371        -0.370490  \n",
       "active_members    -0.008009 -0.094559   0.088392         0.339831  \n",
       "experience         1.000000  0.119999   0.226089        -0.044382  \n",
       "age                0.119999  1.000000  -0.043137        -0.103385  \n",
       "indicator          0.226089 -0.043137   1.000000         0.103060  \n",
       "act_members_per   -0.044382 -0.103385   0.103060         1.000000  "
      ]
     },
     "execution_count": 18,
     "metadata": {},
     "output_type": "execute_result"
    }
   ],
   "source": [
    "#  матрица корреляции\n",
    "data = tos[['id', 'population', 'residents', 'members', 'active_members', 'experience', \n",
    "           'age', 'indicator', 'act_members_per']]\n",
    "data_corr = data.corr()\n",
    "data_corr"
   ]
  },
  {
   "cell_type": "code",
   "execution_count": 19,
   "id": "560a539a-e507-4a2e-a809-10a4b1467d0c",
   "metadata": {},
   "outputs": [
    {
     "data": {
      "text/plain": [
       "Text(0.5, 1.0, 'Корреляция индикатора активности')"
      ]
     },
     "execution_count": 19,
     "metadata": {},
     "output_type": "execute_result"
    },
    {
     "data": {
      "image/png": "[encoded data removed]",
      "text/plain": [
       "<Figure size 200x500 with 2 Axes>"
      ]
     },
     "metadata": {},
     "output_type": "display_data"
    }
   ],
   "source": [
    "# построим столбец корреляции для индикатора активности\n",
    "sns.set(font_scale=1.15)\n",
    "plt.figure(figsize=(2,5))\n",
    "sns.heatmap(data_corr[['indicator']].sort_values(by='indicator', ascending=False).drop('indicator'),  \n",
    "            cmap='RdBu_r', \n",
    "            annot=True, \n",
    "            vmin=-1, vmax=1)\n",
    "plt.title('Корреляция индикатора активности')"
   ]
  },
  {
   "cell_type": "markdown",
   "id": "36ed797d-edcb-4174-974a-80122da880e1",
   "metadata": {},
   "source": [
    "Самая большая корреляция с населением, причем обратная, и стажем руководителя, а самая низкая корреляция с количеством жителей, зарегистрированных на территории ТОСа"
   ]
  },
  {
   "cell_type": "markdown",
   "id": "f6273705-d6b3-4c9c-9009-04430c351416",
   "metadata": {},
   "source": [
    "#### Часть 3. Проверка статестических гипотез."
   ]
  },
  {
   "cell_type": "markdown",
   "id": "36749291-c667-4ddb-9390-2f278bc22095",
   "metadata": {},
   "source": [
    "Проверим две гипотезы чем больше размер поселения тем активнее ТОС. В качесте меры поселения возьмем население этого поселения. И вторую гипотезу -  чем моложе председатель тем активнее ТОС."
   ]
  },
  {
   "cell_type": "markdown",
   "id": "4eee787e-5fec-4be5-9664-a67e6bb71cb6",
   "metadata": {},
   "source": [
    "<a id = '5-bullet'></a>\n",
    "##### Гипотеза различия размера поселения для активных и неактивных ТОС"
   ]
  },
  {
   "cell_type": "markdown",
   "id": "961269bf-c631-4f5b-bd11-c74b1e31a907",
   "metadata": {},
   "source": [
    "    Нулевая гипотеза: средний размер населенного пункта, для активных ТОС равен среднему размеру населенного пункта для неактивных ТОС. \n",
    "    Альтернативная гипотеза: средний размер населенного пункта, для активных ТОС больше среднемего размера населенного пункта для неактивных ТОС."
   ]
  },
  {
   "cell_type": "code",
   "execution_count": 20,
   "id": "e9909518-34dc-4be9-ae6e-1fcd1ea8e842",
   "metadata": {},
   "outputs": [],
   "source": [
    "#разобьем датафрейм на две части по активности ТОС\n",
    "data_0 = tos.query('active_new==\"неактивный\"')\n",
    "data_1 = tos.query('active_new==\"активный\"')"
   ]
  },
  {
   "cell_type": "code",
   "execution_count": 21,
   "id": "adeac565-9f8e-4a2a-8530-9561a13cb6b2",
   "metadata": {},
   "outputs": [
    {
     "name": "stdout",
     "output_type": "stream",
     "text": [
      "Среднее население для неактивных ТОС  20419.93650793651\n",
      "Среднее население для активных ТОС 9397.492647058823\n"
     ]
    }
   ],
   "source": [
    "print('Среднее население для неактивных ТОС ', data_0['population'].mean())\n",
    "print('Среднее население для активных ТОС', data_1['population'].mean())"
   ]
  },
  {
   "cell_type": "markdown",
   "id": "e8922208-8cf6-400e-90e6-e5f15733dae2",
   "metadata": {},
   "source": [
    "t-тест, можно применять, если:\n",
    "* Генеральные совокупности не зависят друг от друга. В нашем случае у нас две выборки из одного датафрейма с разным количеством используемых продуктов.\n",
    "* Выборочные средние нормально распределены. Если размер выборки составляет хотя бы несколько десятков значений, то выборочные средние, которые можно получить из одной и той же генеральной совокупности, будут распределены близко к нормальному вокруг истинного среднего этой совокупности. Это так, даже если сама генеральная совокупность не распределена нормально.\n",
    "* Дисперсии рассматриваемых генеральных совокупностей равны. Если это не так, то можно использовать параметр equal_var = False.\n",
    "\n",
    "В нашем случае две выборки с активными и неактивными ТОС независимы друг от друга, проверим распределение для выборочных средних и дисперсию"
   ]
  },
  {
   "cell_type": "code",
   "execution_count": 22,
   "id": "6f25721b-7109-424a-a4ac-c8e99f879c5a",
   "metadata": {},
   "outputs": [
    {
     "name": "stderr",
     "output_type": "stream",
     "text": [
      "C:\\ProgramData\\anaconda3\\Lib\\site-packages\\seaborn\\_oldcore.py:1119: FutureWarning: use_inf_as_na option is deprecated and will be removed in a future version. Convert inf values to NaN before operating instead.\n",
      "  with pd.option_context('mode.use_inf_as_na', True):\n"
     ]
    },
    {
     "data": {
      "text/plain": [
       "<Axes: ylabel='Density'>"
      ]
     },
     "execution_count": 22,
     "metadata": {},
     "output_type": "execute_result"
    },
    {
     "data": {
      "image/png": "[encoded data removed]",
      "text/plain": [
       "<Figure size 300x300 with 1 Axes>"
      ]
     },
     "metadata": {},
     "output_type": "display_data"
    }
   ],
   "source": [
    "# проверим распределение выборочных средних по количеству населения\n",
    "data = np.array(tos['population'])  # преобразуем в массив NumPy\n",
    "rand_idx = np.random.randint(0, len(data), (1000, 130)) # Генерируем случайные индексы в пределах длины data\n",
    "means = data[rand_idx].mean(axis=1)  # Извлекаем случайные данные и считаем среднее по каждой строке\n",
    "plt.figure(figsize=(3, 3)) \n",
    "sns.kdeplot(means)"
   ]
  },
  {
   "cell_type": "code",
   "execution_count": 23,
   "id": "6b039f81-3720-48ce-9e0c-8a1fb24774eb",
   "metadata": {},
   "outputs": [
    {
     "name": "stdout",
     "output_type": "stream",
     "text": [
      "Дисперсия для неактивных 131243434.12493597\n",
      "Дисперсия для активных 61560267.52587141\n"
     ]
    }
   ],
   "source": [
    "print('Дисперсия для неактивных', data_0['population'].var())\n",
    "print('Дисперсия для активных', data_1['population'].var())"
   ]
  },
  {
   "cell_type": "markdown",
   "id": "93bb7ec6-76c1-425e-8232-5d1b29b105f6",
   "metadata": {},
   "source": [
    "Дисперсии значительно различаются, добавим аргумент equal_var = False"
   ]
  },
  {
   "cell_type": "code",
   "execution_count": 24,
   "id": "a41d520f-0f7b-41dd-86eb-deafd76c2fb9",
   "metadata": {},
   "outputs": [
    {
     "name": "stdout",
     "output_type": "stream",
     "text": [
      "p-value: 0.9999999996806805\n",
      "Нет оснований отвергнуть нулевую гипотезу\n"
     ]
    }
   ],
   "source": [
    "alpha = 0.05\n",
    "\n",
    "# проводим ttest для двух выборок\n",
    "results = st.ttest_ind(data_1['population'], data_0['population'], equal_var = False, alternative='greater')\n",
    "print(f'p-value: {results.pvalue}')\n",
    "\n",
    "# проверяем p-value\n",
    "if results.pvalue < alpha:\n",
    "    print('Отвергаем нулевую гипотезу')\n",
    "else:\n",
    "    print('Нет оснований отвергнуть нулевую гипотезу')"
   ]
  },
  {
   "cell_type": "markdown",
   "id": "d818f2fb-46a0-43d8-a7a8-c68f9f49dd69",
   "metadata": {},
   "source": [
    "Делаем вывод, что статистически нельзя подтвердить что у активных ТОС размер поселения больше чем у неактивных."
   ]
  },
  {
   "cell_type": "markdown",
   "id": "b3639a34-fbb1-44f7-9ea7-d8e385f2fb11",
   "metadata": {},
   "source": [
    "<a id = '6-bullet'></a>\n",
    "##### Гипотеза различия возраста председателя для активных и неактивных ТОС"
   ]
  },
  {
   "cell_type": "markdown",
   "id": "300f0b33-c574-42ee-a350-b40332712b39",
   "metadata": {},
   "source": [
    "    Нулевая гипотеза: средний возраст председателя, для активных ТОС равен среднему возрасту председателей для неактивных ТОС. \n",
    "    Альтернативная гипотеза: средний возраст председателя, для активных ТОС меньше средненего возраста председателя для неактивных ТОС."
   ]
  },
  {
   "cell_type": "code",
   "execution_count": 25,
   "id": "130da224-6fc3-4e62-8acb-b9999a85906c",
   "metadata": {},
   "outputs": [
    {
     "name": "stdout",
     "output_type": "stream",
     "text": [
      "Среднее население для неактивных ТОС  44.41269841269841\n",
      "Среднее население для активных ТОС 43.61764705882353\n"
     ]
    }
   ],
   "source": [
    "print('Среднее население для неактивных ТОС ', data_0['age'].mean())\n",
    "print('Среднее население для активных ТОС', data_1['age'].mean())"
   ]
  },
  {
   "cell_type": "code",
   "execution_count": 26,
   "id": "af84ef2a-f997-4d2a-b8ba-c07ff7715809",
   "metadata": {},
   "outputs": [
    {
     "name": "stderr",
     "output_type": "stream",
     "text": [
      "C:\\ProgramData\\anaconda3\\Lib\\site-packages\\seaborn\\_oldcore.py:1119: FutureWarning: use_inf_as_na option is deprecated and will be removed in a future version. Convert inf values to NaN before operating instead.\n",
      "  with pd.option_context('mode.use_inf_as_na', True):\n"
     ]
    },
    {
     "data": {
      "text/plain": [
       "<Axes: ylabel='Density'>"
      ]
     },
     "execution_count": 26,
     "metadata": {},
     "output_type": "execute_result"
    },
    {
     "data": {
      "image/png": "[encoded data removed]",
      "text/plain": [
       "<Figure size 300x300 with 1 Axes>"
      ]
     },
     "metadata": {},
     "output_type": "display_data"
    }
   ],
   "source": [
    "# проверим распределение выборочных средних по возрасту\n",
    "data = np.array(tos['age'])  # преобразуем в массив NumPy\n",
    "rand_idx = np.random.randint(0, len(data), (1000, 130)) # Генерируем случайные индексы в пределах длины data\n",
    "means = data[rand_idx].mean(axis=1)  # Извлекаем случайные данные и считаем среднее по каждой строке\n",
    "plt.figure(figsize=(3, 3)) \n",
    "sns.kdeplot(means)"
   ]
  },
  {
   "cell_type": "code",
   "execution_count": 27,
   "id": "62a39fef-c9dd-49f9-b33e-dc7b1b1239e7",
   "metadata": {},
   "outputs": [
    {
     "name": "stdout",
     "output_type": "stream",
     "text": [
      "Дисперсия для неактивных 219.11725550435227\n",
      "Дисперсия для активных 144.44531590413928\n"
     ]
    }
   ],
   "source": [
    "print('Дисперсия для неактивных', data_0['age'].var())\n",
    "print('Дисперсия для активных', data_1['age'].var())"
   ]
  },
  {
   "cell_type": "markdown",
   "id": "b2d7742d-bc8f-4126-add0-4ff158bcd933",
   "metadata": {},
   "source": [
    "Дисперсии значительно различаются, добавим аргумент equal_var = False"
   ]
  },
  {
   "cell_type": "code",
   "execution_count": 28,
   "id": "9ea794f2-6df7-41e9-88d6-640e3010118a",
   "metadata": {},
   "outputs": [
    {
     "name": "stdout",
     "output_type": "stream",
     "text": [
      "p-value: 0.35491566030597355\n",
      "Нет оснований отвергнуть нулевую гипотезу\n"
     ]
    }
   ],
   "source": [
    "alpha = 0.05\n",
    "\n",
    "# проводим ttest для двух выборок\n",
    "results = st.ttest_ind(data_1['age'], data_0['age'], equal_var = False, alternative='less')\n",
    "\n",
    "print(f'p-value: {results.pvalue}')\n",
    "\n",
    "# проверяем p-value\n",
    "if results.pvalue < alpha:\n",
    "    print('Отвергаем нулевую гипотезу')\n",
    "else:\n",
    "    print('Нет оснований отвергнуть нулевую гипотезу')"
   ]
  },
  {
   "cell_type": "markdown",
   "id": "5b386b58-e6be-4cc7-abce-dadba2301596",
   "metadata": {},
   "source": [
    "Cтатистически нельзя подтвердить что у активных ТОС председатели моложе, чем у неактивных."
   ]
  },
  {
   "cell_type": "markdown",
   "id": "1a7da42e-977f-4c41-aecf-b44987d8429a",
   "metadata": {},
   "source": [
    "<a id = '7-bullet'></a>\n",
    "#### Выводы"
   ]
  },
  {
   "cell_type": "markdown",
   "id": "7357c5f7-7d42-4522-b790-37592b158643",
   "metadata": {},
   "source": [
    "По средним показателям для активных ТОСов размер поселений, количество членов меньше чем у неактивных. Средний возраст председателя незначительно отличается. Средний процент вовлеченности членов ТОС для активных составляет 26%, для неактивных почти 17%.\n",
    "По гистограммам можно сделать вывод что для неактивных ТОС характерно большее количество жителей и членов ТОС, при этом меньшее количество активных членов, а так же чаще неактивные ТОС имеют председателя с меньшим стажем и по возрасту либо моложе 30 либо старше 60. Для неактивных ТОС процент вовлеченности участников значительно ниже чем у активных.\n",
    "Самая большая корреляция с населением, причем обратная, и стажем руководителя и вовлеченностью членов ТОС, а самая низкая корреляция с количеством жителей, зарегистрированных на территории ТОСа. \n",
    "Сформулировали проверили две гипотезы о том что чем активнее тос, тем на территории с большим населением он находится и тем иоложе председатель ТОС. Обе гипотезы статистически не подтвердились.\n",
    "Таким образом, получается что для активных ТОС скорее характерно меньшее количество членов с большим количеством активистов. При этом председатель среднего возраста с достаточным тосовским опытом."
   ]
  },
  {
   "cell_type": "markdown",
   "id": "4a89d7a3-677e-44bd-8ea9-b7348d5e3915",
   "metadata": {},
   "source": [
    "<a id = '8-bullet'></a>\n",
    "#### Дашборд"
   ]
  },
  {
   "cell_type": "markdown",
   "id": "2b45a3eb-841d-4937-9a4a-35fe13674d46",
   "metadata": {},
   "source": [
    "<https://datalens.yandex/q05z0c8m3f9yd>"
   ]
  }
 ],
 "metadata": {
  "kernelspec": {
   "display_name": "Python 3 (ipykernel)",
   "language": "python",
   "name": "python3"
  },
  "language_info": {
   "codemirror_mode": {
    "name": "ipython",
    "version": 3
   },
   "file_extension": ".py",
   "mimetype": "text/x-python",
   "name": "python",
   "nbconvert_exporter": "python",
   "pygments_lexer": "ipython3",
   "version": "3.11.7"
  }
 },
 "nbformat": 4,
 "nbformat_minor": 5
}
